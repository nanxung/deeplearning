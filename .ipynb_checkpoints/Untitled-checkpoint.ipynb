{
 "cells": [
  {
   "cell_type": "code",
   "execution_count": 30,
   "metadata": {
    "collapsed": true
   },
   "outputs": [],
   "source": [
    "import numpy as np\n",
    "import pandas as pd\n",
    "import matplotlib.pyplot as plt"
   ]
  },
  {
   "cell_type": "code",
   "execution_count": 31,
   "metadata": {
    "collapsed": true
   },
   "outputs": [],
   "source": [
    "def loadData():\n",
    "    train_data=pd.read_csv(\"train.csv\",header=None).values\n",
    "    train_label=pd.read_csv(\"trainLabels.csv\",header=None).values\n",
    "    print(\"train_data's shape is {},train_label's shape is {}\".format(train_data.shape,train_label.shape))\n",
    "    return train_data,train_label"
   ]
  },
  {
   "cell_type": "code",
   "execution_count": 32,
   "metadata": {},
   "outputs": [
    {
     "name": "stdout",
     "output_type": "stream",
     "text": [
      "train_data's shape is (1000, 40),train_label's shape is (1000, 1)\n"
     ]
    }
   ],
   "source": [
    "train_data,train_label=loadData()"
   ]
  },
  {
   "cell_type": "code",
   "execution_count": null,
   "metadata": {
    "collapsed": true
   },
   "outputs": [],
   "source": [
    "def init_parameters(input_size,layer_size,output_size):\n",
    "    np.random.seed(2)\n",
    "    w1=np.random.randn(layer_size,input_size)*0.01\n",
    "    b1=np.zeros((layer_size,1))\n",
    "    w2=np.random.randn(output_size,layer_size)*0.01\n",
    "    b2=np.zeros((output_size,1))\n",
    "    parameters={\n",
    "        'w1':w1,\n",
    "        'w2':w2,\n",
    "        'b1':b1,\n",
    "        'b2':b2\n",
    "    }\n",
    "    return parameters"
   ]
  },
  {
   "cell_type": "code",
   "execution_count": null,
   "metadata": {
    "collapsed": true
   },
   "outputs": [],
   "source": [
    "parameters=init_parameters(40,160,1)"
   ]
  },
  {
   "cell_type": "code",
   "execution_count": 99,
   "metadata": {
    "collapsed": true
   },
   "outputs": [],
   "source": [
    "def sigmoid(z):\n",
    "    return 1.0/(1+np.exp(-z))"
   ]
  },
  {
   "cell_type": "code",
   "execution_count": 171,
   "metadata": {
    "collapsed": true
   },
   "outputs": [],
   "source": [
    "def relu(z):\n",
    "    z[z<=0]=0"
   ]
  },
  {
   "cell_type": "code",
   "execution_count": 174,
   "metadata": {
    "collapsed": true
   },
   "outputs": [],
   "source": [
    "def forward(X,parameters):\n",
    "    w1=parameters['w1']\n",
    "    w2=parameters['w2']\n",
    "    b1=parameters['b1']\n",
    "    b2=parameters['b2']\n",
    "    #w1's shape is (160,40),X's shape is (1000,40)\n",
    "    z1=np.dot(w1,X.T)+b1\n",
    "    a1=z1.copy()\n",
    "    a1[a1<=0]=0\n",
    "    z2=np.dot(w2,a1)+b2\n",
    "    a2=sigmoid(z2)\n",
    "    cache={\n",
    "        'a1':a1,\n",
    "        'a2':a2,\n",
    "        'z1':z1,\n",
    "        'z2':z2\n",
    "    }\n",
    "    return cache\n",
    "    "
   ]
  },
  {
   "cell_type": "code",
   "execution_count": 175,
   "metadata": {
    "collapsed": true
   },
   "outputs": [],
   "source": [
    "cache=forward(train_data,parameters)"
   ]
  },
  {
   "cell_type": "code",
   "execution_count": null,
   "metadata": {
    "collapsed": true
   },
   "outputs": [],
   "source": [
    "def cost(cache,Y,parameters):\n",
    "    #a2's shape (1,1000) Y's shape is (1000,1),so need transport\n",
    "    a2=cache['a2'].T\n",
    "    cost=-Y*np.log(a2)-(1-Y)*np.log(1-a2)\n",
    "    return (1.0/1000)*(np.sum(cost)+0.0001*np.sum(np.power(parameters['w1'],2))+0.0001*np.sum(np.power(parameters['w2'],2)))"
   ]
  },
  {
   "cell_type": "code",
   "execution_count": null,
   "metadata": {
    "collapsed": true
   },
   "outputs": [],
   "source": [
    "cost(cache,train_label,parameters)"
   ]
  },
  {
   "cell_type": "code",
   "execution_count": 178,
   "metadata": {
    "collapsed": true
   },
   "outputs": [],
   "source": [
    "def back(parameters,X,Y,cache):\n",
    "    m=Y.shape[0]\n",
    "    #w1 (160,40) b1(160,1) w2(1,160) b2(1,1) z1,a1(160,1000) z2,a2(1,1000) X(1000,40) Y(1000,1)\n",
    "    w1=parameters['w1']\n",
    "    w2=parameters['w2']\n",
    "    b1=parameters['b1']\n",
    "    b2=parameters['b2']\n",
    "    a1=cache['a1']\n",
    "    a2=cache['a2']\n",
    "    z1=cache['z1']\n",
    "    z2=cache['z2']\n",
    "    dz2=a2-Y.T\n",
    "    dw2=(1/m)*np.dot(dz2,a1.T)\n",
    "    db2=(1/m)*np.sum(dz2,axis=1,keepdims=True)\n",
    "    dz1=np.dot(w2.T,dz2)*(z1)*(1-z1)\n",
    "    dw1=(1/m)*np.dot(dz1,X)\n",
    "    db1=(1/m)*np.sum(dz1,axis=1,keepdims=True)\n",
    "    grad={\n",
    "        'dw1':dw1,\n",
    "        'dw2':dw2,\n",
    "        'db1':db1,\n",
    "        'db2':db2\n",
    "    }\n",
    "    return grad\n",
    "    \n",
    "    "
   ]
  },
  {
   "cell_type": "code",
   "execution_count": 179,
   "metadata": {
    "collapsed": true
   },
   "outputs": [],
   "source": [
    "grad=back(parameters,train_data,train_label,cache)"
   ]
  },
  {
   "cell_type": "code",
   "execution_count": 28,
   "metadata": {
    "collapsed": true
   },
   "outputs": [],
   "source": [
    "def updateParameters(parameters,grad,learning=0.3):\n",
    "    dw1=grad['dw1']\n",
    "    dw2=grad['dw2']\n",
    "    db1=grad['db1']\n",
    "    db2=grad['db2']\n",
    "    w1=parameters['w1']-learning*dw1\n",
    "    w2=parameters['w2']-learning*dw2\n",
    "    b1=parameters['b1']-learning*db1\n",
    "    b2=parameters['b2']-learning*db2\n",
    "    parameters={\n",
    "        'w1':w1,\n",
    "        'w2':w2,\n",
    "        'b1':b1,\n",
    "        'b2':b2\n",
    "    }\n",
    "    return parameters"
   ]
  },
  {
   "cell_type": "code",
   "execution_count": 29,
   "metadata": {
    "collapsed": true
   },
   "outputs": [],
   "source": [
    "updateParameter=updateParameters(parameters,grad)"
   ]
  },
  {
   "cell_type": "code",
   "execution_count": 30,
   "metadata": {
    "collapsed": true
   },
   "outputs": [],
   "source": [
    "def train(X,Y,numSize):\n",
    "    parameters=init_parameters(40,40,1)\n",
    "    for i in range(numSize):\n",
    "        cache=forward(X,parameters)\n",
    "        grad=back(parameters,X,Y,cache)\n",
    "        cost1=cost(cache,Y,parameters)\n",
    "        parameters=updateParameters(parameters,grad)\n",
    "        if i%100==0:\n",
    "            print(\"train cost is {}\".format(cost1))\n",
    "            a2=cache['a2'].copy()\n",
    "            a2[a2>0.5]=1\n",
    "            a2[a2<=0.5]=0\n",
    "            n=np.sum(a2[a2==Y.T])\n",
    "            print(\"acc is {}\".format(n/1000))\n",
    "    return parameters"
   ]
  },
  {
   "cell_type": "code",
   "execution_count": 31,
   "metadata": {
    "scrolled": true
   },
   "outputs": [
    {
     "name": "stdout",
     "output_type": "stream",
     "text": [
      "train cost is 0.69386200802257\n",
      "acc is 0.154\n"
     ]
    },
    {
     "name": "stderr",
     "output_type": "stream",
     "text": [
      "/usr/local/lib/python3.5/dist-packages/ipykernel_launcher.py:4: RuntimeWarning: divide by zero encountered in log\n",
      "  after removing the cwd from sys.path.\n",
      "/usr/local/lib/python3.5/dist-packages/ipykernel_launcher.py:4: RuntimeWarning: invalid value encountered in multiply\n",
      "  after removing the cwd from sys.path.\n",
      "/usr/local/lib/python3.5/dist-packages/ipykernel_launcher.py:2: RuntimeWarning: overflow encountered in exp\n",
      "  \n",
      "/usr/local/lib/python3.5/dist-packages/ipykernel_launcher.py:15: RuntimeWarning: overflow encountered in multiply\n",
      "  from ipykernel import kernelapp as app\n",
      "/usr/local/lib/python3.5/dist-packages/ipykernel_launcher.py:5: RuntimeWarning: overflow encountered in power\n",
      "  \"\"\"\n",
      "/usr/local/lib/python3.5/dist-packages/ipykernel_launcher.py:9: RuntimeWarning: invalid value encountered in less_equal\n",
      "  if __name__ == '__main__':\n",
      "/usr/local/lib/python3.5/dist-packages/ipykernel_launcher.py:11: RuntimeWarning: invalid value encountered in greater\n",
      "  # This is added back by InteractiveShellApp.init_path()\n",
      "/usr/local/lib/python3.5/dist-packages/ipykernel_launcher.py:12: RuntimeWarning: invalid value encountered in less_equal\n",
      "  if sys.path[0] == '':\n"
     ]
    },
    {
     "name": "stdout",
     "output_type": "stream",
     "text": [
      "train cost is nan\n",
      "acc is 0.0\n",
      "train cost is nan\n",
      "acc is 0.0\n",
      "train cost is nan\n",
      "acc is 0.0\n",
      "train cost is nan\n",
      "acc is 0.0\n",
      "train cost is nan\n",
      "acc is 0.0\n",
      "train cost is nan\n",
      "acc is 0.0\n",
      "train cost is nan\n",
      "acc is 0.0\n",
      "train cost is nan\n",
      "acc is 0.0\n",
      "train cost is nan\n",
      "acc is 0.0\n"
     ]
    },
    {
     "ename": "KeyboardInterrupt",
     "evalue": "",
     "output_type": "error",
     "traceback": [
      "\u001b[0;31m---------------------------------------------------------------------------\u001b[0m",
      "\u001b[0;31mKeyboardInterrupt\u001b[0m                         Traceback (most recent call last)",
      "\u001b[0;32m<ipython-input-31-370cdcb6d031>\u001b[0m in \u001b[0;36m<module>\u001b[0;34m()\u001b[0m\n\u001b[0;32m----> 1\u001b[0;31m \u001b[0mparameters\u001b[0m\u001b[0;34m=\u001b[0m\u001b[0mtrain\u001b[0m\u001b[0;34m(\u001b[0m\u001b[0mtrain_data\u001b[0m\u001b[0;34m,\u001b[0m\u001b[0mtrain_label\u001b[0m\u001b[0;34m,\u001b[0m\u001b[0;36m10000\u001b[0m\u001b[0;34m)\u001b[0m\u001b[0;34m\u001b[0m\u001b[0m\n\u001b[0m",
      "\u001b[0;32m<ipython-input-30-a78716e7409a>\u001b[0m in \u001b[0;36mtrain\u001b[0;34m(X, Y, numSize)\u001b[0m\n\u001b[1;32m      2\u001b[0m     \u001b[0mparameters\u001b[0m\u001b[0;34m=\u001b[0m\u001b[0minit_parameters\u001b[0m\u001b[0;34m(\u001b[0m\u001b[0;36m40\u001b[0m\u001b[0;34m,\u001b[0m\u001b[0;36m40\u001b[0m\u001b[0;34m,\u001b[0m\u001b[0;36m1\u001b[0m\u001b[0;34m)\u001b[0m\u001b[0;34m\u001b[0m\u001b[0m\n\u001b[1;32m      3\u001b[0m     \u001b[0;32mfor\u001b[0m \u001b[0mi\u001b[0m \u001b[0;32min\u001b[0m \u001b[0mrange\u001b[0m\u001b[0;34m(\u001b[0m\u001b[0mnumSize\u001b[0m\u001b[0;34m)\u001b[0m\u001b[0;34m:\u001b[0m\u001b[0;34m\u001b[0m\u001b[0m\n\u001b[0;32m----> 4\u001b[0;31m         \u001b[0mcache\u001b[0m\u001b[0;34m=\u001b[0m\u001b[0mforward\u001b[0m\u001b[0;34m(\u001b[0m\u001b[0mX\u001b[0m\u001b[0;34m,\u001b[0m\u001b[0mparameters\u001b[0m\u001b[0;34m)\u001b[0m\u001b[0;34m\u001b[0m\u001b[0m\n\u001b[0m\u001b[1;32m      5\u001b[0m         \u001b[0mgrad\u001b[0m\u001b[0;34m=\u001b[0m\u001b[0mback\u001b[0m\u001b[0;34m(\u001b[0m\u001b[0mparameters\u001b[0m\u001b[0;34m,\u001b[0m\u001b[0mX\u001b[0m\u001b[0;34m,\u001b[0m\u001b[0mY\u001b[0m\u001b[0;34m,\u001b[0m\u001b[0mcache\u001b[0m\u001b[0;34m)\u001b[0m\u001b[0;34m\u001b[0m\u001b[0m\n\u001b[1;32m      6\u001b[0m         \u001b[0mcost1\u001b[0m\u001b[0;34m=\u001b[0m\u001b[0mcost\u001b[0m\u001b[0;34m(\u001b[0m\u001b[0mcache\u001b[0m\u001b[0;34m,\u001b[0m\u001b[0mY\u001b[0m\u001b[0;34m,\u001b[0m\u001b[0mparameters\u001b[0m\u001b[0;34m)\u001b[0m\u001b[0;34m\u001b[0m\u001b[0m\n",
      "\u001b[0;32m<ipython-input-8-06c757260866>\u001b[0m in \u001b[0;36mforward\u001b[0;34m(X, parameters)\u001b[0m\n\u001b[1;32m      5\u001b[0m     \u001b[0mb2\u001b[0m\u001b[0;34m=\u001b[0m\u001b[0mparameters\u001b[0m\u001b[0;34m[\u001b[0m\u001b[0;34m'b2'\u001b[0m\u001b[0;34m]\u001b[0m\u001b[0;34m\u001b[0m\u001b[0m\n\u001b[1;32m      6\u001b[0m     \u001b[0;31m#w1's shape is (160,40),X's shape is (1000,40)\u001b[0m\u001b[0;34m\u001b[0m\u001b[0;34m\u001b[0m\u001b[0m\n\u001b[0;32m----> 7\u001b[0;31m     \u001b[0mz1\u001b[0m\u001b[0;34m=\u001b[0m\u001b[0mnp\u001b[0m\u001b[0;34m.\u001b[0m\u001b[0mdot\u001b[0m\u001b[0;34m(\u001b[0m\u001b[0mw1\u001b[0m\u001b[0;34m,\u001b[0m\u001b[0mX\u001b[0m\u001b[0;34m.\u001b[0m\u001b[0mT\u001b[0m\u001b[0;34m)\u001b[0m\u001b[0;34m+\u001b[0m\u001b[0mb1\u001b[0m\u001b[0;34m\u001b[0m\u001b[0m\n\u001b[0m\u001b[1;32m      8\u001b[0m     \u001b[0ma1\u001b[0m\u001b[0;34m=\u001b[0m\u001b[0mz1\u001b[0m\u001b[0;34m.\u001b[0m\u001b[0mcopy\u001b[0m\u001b[0;34m(\u001b[0m\u001b[0;34m)\u001b[0m\u001b[0;34m\u001b[0m\u001b[0m\n\u001b[1;32m      9\u001b[0m     \u001b[0ma1\u001b[0m\u001b[0;34m[\u001b[0m\u001b[0ma1\u001b[0m\u001b[0;34m<=\u001b[0m\u001b[0;36m0\u001b[0m\u001b[0;34m]\u001b[0m\u001b[0;34m=\u001b[0m\u001b[0;36m0\u001b[0m\u001b[0;34m\u001b[0m\u001b[0m\n",
      "\u001b[0;31mKeyboardInterrupt\u001b[0m: "
     ]
    }
   ],
   "source": [
    "parameters=train(train_data,train_label,10000)"
   ]
  },
  {
   "cell_type": "code",
   "execution_count": null,
   "metadata": {
    "collapsed": true
   },
   "outputs": [],
   "source": []
  },
  {
   "cell_type": "code",
   "execution_count": null,
   "metadata": {
    "collapsed": true
   },
   "outputs": [],
   "source": []
  },
  {
   "cell_type": "code",
   "execution_count": null,
   "metadata": {
    "collapsed": true
   },
   "outputs": [],
   "source": []
  }
 ],
 "metadata": {
  "kernelspec": {
   "display_name": "Python 3",
   "language": "python",
   "name": "python3"
  },
  "language_info": {
   "codemirror_mode": {
    "name": "ipython",
    "version": 3
   },
   "file_extension": ".py",
   "mimetype": "text/x-python",
   "name": "python",
   "nbconvert_exporter": "python",
   "pygments_lexer": "ipython3",
   "version": "3.5.2"
  }
 },
 "nbformat": 4,
 "nbformat_minor": 2
}
